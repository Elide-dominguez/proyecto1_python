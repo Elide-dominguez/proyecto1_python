{
  "nbformat": 4,
  "nbformat_minor": 0,
  "metadata": {
    "colab": {
      "provenance": []
    },
    "kernelspec": {
      "name": "python3",
      "display_name": "Python 3"
    },
    "language_info": {
      "name": "python"
    }
  },
  "cells": [
    {
      "cell_type": "code",
      "execution_count": null,
      "metadata": {
        "id": "Vq9HWwhEkQwd"
      },
      "outputs": [],
      "source": []
    },
    {
      "cell_type": "code",
      "source": [
        "print(\"Calculadora de Índice de Masa Corporal (IMC)\")\n",
        "\n",
        "#Ingresar datos\n",
        "print(\"* * * * Captura de datos * * * *\")\n",
        "nombre = input(\"Introduce tu nombre: \")\n",
        "ap_paterno = input(\"Introduce tu apellido paterno: \")\n",
        "ap_materno = input(\"Introduce tu apellido materno: \")\n",
        "\n",
        "#Validacion de datos de edad, talla, peso\n",
        "while True:\n",
        "    try:\n",
        "        edad = int(input(\"Introduce tu edad: \"))\n",
        "        if edad <= 0:\n",
        "            print(\"Error, la edad debe ser un número positivo.\")\n",
        "            continue\n",
        "        break\n",
        "    except ValueError:\n",
        "        print(\"Error, ingresa un número entero válido.\")\n",
        "\n",
        "while True:\n",
        "    try:\n",
        "        talla = float(input(\"Introduce tu talla: \"))\n",
        "        if talla <= 0:\n",
        "            print(\"Error, la talla debe ser un número positivo.\")\n",
        "            continue\n",
        "        break\n",
        "    except ValueError:\n",
        "        print(\"Error, ingresa un número válido.\")\n",
        "\n",
        "while True:\n",
        "    try:\n",
        "        peso = float(input(\"Introduce tu peso en kg: \"))\n",
        "        if peso <= 0:\n",
        "            print(\"Error, el peso debe ser un número positivo.\")\n",
        "            continue\n",
        "        break\n",
        "    except ValueError:\n",
        "        print(\"Error, ingresa un número válido.\")\n",
        "\n",
        "#Calcular IMC\n",
        "imc = peso / (talla ** 2)\n",
        "\n",
        "#Mostrar resultados\n",
        "print(\"\\n* * * RESULTADOS * * *\")\n",
        "print(f\"Nombre: {nombre} {ap_paterno} {ap_materno}\")\n",
        "print(f\"Edad: {edad}\")\n",
        "print(f\"Peso: {peso}\")\n",
        "print(f\"Talla: {talla}\")\n",
        "print(f\"Indice de Masa Corporal: {imc}\")"
      ],
      "metadata": {
        "colab": {
          "base_uri": "https://localhost:8080/"
        },
        "id": "qmtJ1IACkdIX",
        "outputId": "91430751-ead9-4e52-dff6-caa51d204318"
      },
      "execution_count": 1,
      "outputs": [
        {
          "output_type": "stream",
          "name": "stdout",
          "text": [
            "Calculadora de Índice de Masa Corporal (IMC)\n",
            "* * * * Captura de datos * * * *\n",
            "Introduce tu nombre: elide\n",
            "Introduce tu apellido paterno: dominguez\n",
            "Introduce tu apellido materno: campos\n",
            "Introduce tu edad: 30\n",
            "Introduce tu talla: 1.54\n",
            "Introduce tu peso en kg: 68\n",
            "\n",
            "* * * RESULTADOS * * *\n",
            "Nombre: elide dominguez campos\n",
            "Edad: 30\n",
            "Peso: 68.0\n",
            "Talla: 1.54\n",
            "Indice de Masa Corporal: 28.67262607522348\n"
          ]
        }
      ]
    }
  ]
}